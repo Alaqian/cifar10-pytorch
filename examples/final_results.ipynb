{
 "cells": [
  {
   "cell_type": "markdown",
   "source": [
    "# Final results\n",
    "\n",
    "The following notebook loads the best checkpoints from ConvMixer256/8(k=5, p=2) and ResNet/S-38 training (as described in the report) and evaluates each against the CIFAR-10 test data. The final accuracy scores are displayed below."
   ],
   "metadata": {
    "collapsed": false
   }
  },
  {
   "cell_type": "code",
   "execution_count": 3,
   "outputs": [],
   "source": [
    "import os.path\n",
    "import sys\n",
    "import subprocess\n",
    "sys.path.append(os.path.abspath('../'))"
   ],
   "metadata": {
    "collapsed": false
   }
  },
  {
   "cell_type": "code",
   "execution_count": 4,
   "outputs": [],
   "source": [
    "import test"
   ],
   "metadata": {
    "collapsed": false
   }
  },
  {
   "cell_type": "code",
   "execution_count": 11,
   "outputs": [
    {
     "name": "stdout",
     "output_type": "stream",
     "text": [
      "Evaluating convmixer256_8_k5_p2 on test data set...\n"
     ]
    },
    {
     "name": "stderr",
     "output_type": "stream",
     "text": [
      "Test: [10/40     Acc:  0.949     Time: 0.0025\n",
      "Test: [20/40     Acc:  0.948     Time: 0.0028\n",
      "Test: [30/40     Acc:  0.950     Time: 0.0024\n",
      "Test: [40/40     Acc:  0.950     Time: 0.0022\n",
      "Results:\n",
      "\tTest Acc: 0.950\n"
     ]
    },
    {
     "name": "stdout",
     "output_type": "stream",
     "text": [
      "b'Files already downloaded and verified\\n'\n",
      "Evaluating resnet_s38 on test data set...\n"
     ]
    },
    {
     "name": "stderr",
     "output_type": "stream",
     "text": [
      "Test: [10/40     Acc:  0.945     Time: 0.0049\n",
      "Test: [20/40     Acc:  0.943     Time: 0.0050\n",
      "Test: [30/40     Acc:  0.944     Time: 0.0048\n",
      "Test: [40/40     Acc:  0.947     Time: 0.0053\n",
      "Results:\n",
      "\tTest Acc: 0.947\n"
     ]
    },
    {
     "name": "stdout",
     "output_type": "stream",
     "text": [
      "b'Files already downloaded and verified\\n'\n"
     ]
    }
   ],
   "source": [
    "models = ['convmixer256_8_k5_p2', 'resnet_s38']\n",
    "\n",
    "for model in models:\n",
    "    checkpoint_path = os.path.join(os.path.abspath('../'), 'saved_models')\n",
    "    ckpt = f\"{model}_best.pt\"\n",
    "    print(f\"Evaluating {model} on test data set...\")\n",
    "    cmd = f\"python ../test.py --model={model} --checkpoint={os.path.join(checkpoint_path, ckpt)} --logs=logs\"\n",
    "    proc = subprocess.Popen(cmd.split(), stdout=subprocess.PIPE)\n",
    "    output, error = proc.communicate()\n",
    "    print(output if output else error)"
   ],
   "metadata": {
    "collapsed": false
   }
  },
  {
   "cell_type": "code",
   "execution_count": null,
   "outputs": [],
   "source": [],
   "metadata": {
    "collapsed": false
   }
  }
 ],
 "metadata": {
  "kernelspec": {
   "display_name": "Python 3",
   "language": "python",
   "name": "python3"
  },
  "language_info": {
   "codemirror_mode": {
    "name": "ipython",
    "version": 2
   },
   "file_extension": ".py",
   "mimetype": "text/x-python",
   "name": "python",
   "nbconvert_exporter": "python",
   "pygments_lexer": "ipython2",
   "version": "2.7.6"
  }
 },
 "nbformat": 4,
 "nbformat_minor": 0
}
